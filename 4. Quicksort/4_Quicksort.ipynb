{
  "nbformat": 4,
  "nbformat_minor": 0,
  "metadata": {
    "colab": {
      "name": "4. Quicksort.ipynb",
      "provenance": [],
      "authorship_tag": "ABX9TyNCSIrBoSM1Wxz9ITKxk+bF",
      "include_colab_link": true
    },
    "kernelspec": {
      "name": "python3",
      "display_name": "Python 3"
    }
  },
  "cells": [
    {
      "cell_type": "markdown",
      "metadata": {
        "id": "view-in-github",
        "colab_type": "text"
      },
      "source": [
        "<a href=\"https://colab.research.google.com/github/bing020815/Python-Interview/blob/master/4.%20Quicksort/4_Quicksort.ipynb\" target=\"_parent\"><img src=\"https://colab.research.google.com/assets/colab-badge.svg\" alt=\"Open In Colab\"/></a>"
      ]
    },
    {
      "cell_type": "markdown",
      "metadata": {
        "id": "NEqciG4iGcQ5",
        "colab_type": "text"
      },
      "source": [
        "Given a list of number [3,6,8,10,1,2,1], create a function to sort the list of number in order."
      ]
    },
    {
      "cell_type": "code",
      "metadata": {
        "id": "ir_FvtqtDI0L",
        "colab_type": "code",
        "colab": {}
      },
      "source": [
        "def quicksort(arr):\n",
        "    # if the there is only one element, return itself\n",
        "    if len(arr) <= 1:\n",
        "        return arr\n",
        "    # set up the median as a pivot point\n",
        "    pivot = arr[len(arr) // 2]\n",
        "    # if the elements of the list are less than the pivot point, put it on the left list\n",
        "    left = [x for x in arr if x < pivot]\n",
        "    # if the elements of the list are equal to the pivot point, put it on the middle list with the piviot point\n",
        "    middle = [x for x in arr if x == pivot]\n",
        "    # if the elements of the list are larger than the pivot point, put it on the right list\n",
        "    right = [x for x in arr if x > pivot]\n",
        "    # using the property of the list join \n",
        "    return quicksort(left) + middle + quicksort(right)"
      ],
      "execution_count": 0,
      "outputs": []
    },
    {
      "cell_type": "markdown",
      "metadata": {
        "id": "BOuxPEyOHpx8",
        "colab_type": "text"
      },
      "source": [
        "### Break down the flow of the code:"
      ]
    },
    {
      "cell_type": "markdown",
      "metadata": {
        "id": "zsVX91S9H4jj",
        "colab_type": "text"
      },
      "source": [
        "We put the arr = [3,6,8,10,1,2,1] as input to the function, and the output should be shown as below:\n",
        "\n",
        "\n",
        "\n",
        "```\n",
        "quicksort([3,6,8,1,2,1]) + [10] + quicksort([])\n",
        "```\n",
        "\n"
      ]
    },
    {
      "cell_type": "markdown",
      "metadata": {
        "id": "sLAOx0vhIbVh",
        "colab_type": "text"
      },
      "source": [
        "Then, the function will run the another loop function: quicksort([3,6,8,1,2,1]).\n",
        "The pivot point for the new quicksort function that we just defined is '1'. The output of the our original function now has become:\n",
        "\n",
        "\n",
        "```\n",
        "quicksort([]) + [1,1] + quicksort([3,6,8,2]) + [10] + quicksort([])\n",
        "```\n",
        "\n"
      ]
    },
    {
      "cell_type": "markdown",
      "metadata": {
        "id": "Bt50pgjsKPA1",
        "colab_type": "text"
      },
      "source": [
        "The next loop function we have to solve is quicksort([3,6,8,2]).\n",
        "And the pivot point is '8' now.\n",
        "The output of the original function now has become:\n",
        "\n",
        "\n",
        "```\n",
        "quicksort([]) + [1,1] + quicksort([3,6,2]) + [8] + quicksort([]) + [10] + quicksort([])\n",
        "```\n",
        "\n",
        "\n"
      ]
    },
    {
      "cell_type": "markdown",
      "metadata": {
        "id": "j4KB_kuEKvRn",
        "colab_type": "text"
      },
      "source": [
        "Next one will be solving quicksort([3,6,2]) and the pivot point is 6 for this case.\n",
        "The output now is:\n",
        "\n",
        "```\n",
        "quicksort([]) + [1,1] + quicksort([3,2]) + [6] + quicksort([]) + [8] + quicksort([]) + [10] + quicksort([])\n",
        "```\n",
        "\n"
      ]
    },
    {
      "cell_type": "markdown",
      "metadata": {
        "id": "J63dl5QfLQdf",
        "colab_type": "text"
      },
      "source": [
        "Now, we have the last loop function needs to be solved.\n",
        "The pivot point is '2' and the final output is:\n",
        "\n",
        "\n",
        "\n",
        "```\n",
        "quicksort([]) + [1,1] + quicksort([]) + [2] + quicksort([3]) + [6] + quicksort([]) + [8] + quicksort([]) + [10] + quicksort([])\n",
        "```\n",
        "\n",
        "And it can also become:\n",
        "\n",
        "\n",
        "```\n",
        "quicksort([]) + [1,1] + quicksort([]) + [2] + quicksort([]) + [3] + quicksort([]) + [6] + quicksort([]) + [8] + quicksort([]) + [10] + quicksort([])\n",
        "```\n",
        "\n",
        "Then, by returning the value above, we get a list of sorted numbers as follow:\n",
        "\n",
        "\n",
        "\n",
        "```\n",
        "[1, 1, 2, 3, 6, 8, 10]\n",
        "```\n",
        "\n",
        "\n",
        "\n",
        "\n"
      ]
    }
  ]
}