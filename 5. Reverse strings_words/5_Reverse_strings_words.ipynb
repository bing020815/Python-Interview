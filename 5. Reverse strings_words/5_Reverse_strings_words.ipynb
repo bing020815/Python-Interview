{
  "nbformat": 4,
  "nbformat_minor": 0,
  "metadata": {
    "colab": {
      "name": "5. Reverse strings/words.ipynb",
      "provenance": [],
      "authorship_tag": "ABX9TyMX+rLIOn+HyhLauyMwhaQ+",
      "include_colab_link": true
    },
    "kernelspec": {
      "name": "python3",
      "display_name": "Python 3"
    }
  },
  "cells": [
    {
      "cell_type": "markdown",
      "metadata": {
        "id": "view-in-github",
        "colab_type": "text"
      },
      "source": [
        "<a href=\"https://colab.research.google.com/github/bing020815/Python-Interview/blob/master/5.%20Reverse%20strings_words/5_Reverse_strings_words.ipynb\" target=\"_parent\"><img src=\"https://colab.research.google.com/assets/colab-badge.svg\" alt=\"Open In Colab\"/></a>"
      ]
    },
    {
      "cell_type": "markdown",
      "metadata": {
        "id": "UauJ7ZERIloQ",
        "colab_type": "text"
      },
      "source": [
        "# Reverse strings\n",
        "Given a string, create a function to return the string reversely.\n",
        "\n",
        "Exammple:  \n",
        "Input : str = \"abcde\"  \n",
        "Output : str = \"edcba\"  "
      ]
    },
    {
      "cell_type": "code",
      "metadata": {
        "id": "Vt7IWmEoIV91",
        "colab_type": "code",
        "colab": {}
      },
      "source": [
        "def reverse_strings(strings):\n",
        "    reverse_s = strings[::-1] # select all charactors but step size of -1\n",
        "    return reverse_s"
      ],
      "execution_count": 0,
      "outputs": []
    },
    {
      "cell_type": "code",
      "metadata": {
        "id": "Sa-D5UFfLkgX",
        "colab_type": "code",
        "colab": {
          "base_uri": "https://localhost:8080/",
          "height": 34
        },
        "outputId": "3ddcce21-66cf-40f7-f856-0b30b833127c"
      },
      "source": [
        "# Test code \n",
        "strings = \"reverse\"\n",
        "reverse_strings(strings)"
      ],
      "execution_count": 2,
      "outputs": [
        {
          "output_type": "execute_result",
          "data": {
            "text/plain": [
              "'esrever'"
            ]
          },
          "metadata": {
            "tags": []
          },
          "execution_count": 2
        }
      ]
    },
    {
      "cell_type": "code",
      "metadata": {
        "id": "8kwdzRD2JS9d",
        "colab_type": "code",
        "colab": {
          "base_uri": "https://localhost:8080/",
          "height": 34
        },
        "outputId": "42c1c787-7237-4a11-e2ae-74d4f3c34885"
      },
      "source": [
        "# Test code \n",
        "strings = \"i have a string\"\n",
        "reverse_strings(strings)"
      ],
      "execution_count": 3,
      "outputs": [
        {
          "output_type": "execute_result",
          "data": {
            "text/plain": [
              "'gnirts a evah i'"
            ]
          },
          "metadata": {
            "tags": []
          },
          "execution_count": 3
        }
      ]
    },
    {
      "cell_type": "markdown",
      "metadata": {
        "id": "k2hjK5TsKlJh",
        "colab_type": "text"
      },
      "source": [
        "# Reverse words\n",
        "Given a string, create a function to return words reversely.\n",
        "\n",
        "Exammple:  \n",
        "Input : str = \"this is a string\"  \n",
        "Output : str = \"string a is this\"  "
      ]
    },
    {
      "cell_type": "code",
      "metadata": {
        "id": "397ZX73kJYcz",
        "colab_type": "code",
        "colab": {}
      },
      "source": [
        "def reverse_words(strings):\n",
        "    # split a string to words with the white space delimited\n",
        "    words=strings.split()\n",
        "    # list comprehension to collect the words in reverse order\n",
        "    reversed_words = [words[-(i+1)] for i in range(len(words))]\n",
        "    # join the words with a white space\n",
        "    result = ' '.join(reversed_words)\n",
        "    return result"
      ],
      "execution_count": 0,
      "outputs": []
    },
    {
      "cell_type": "code",
      "metadata": {
        "id": "krznbaklMInb",
        "colab_type": "code",
        "colab": {
          "base_uri": "https://localhost:8080/",
          "height": 34
        },
        "outputId": "4498235b-1ebb-4793-d2f1-7ccbcac8ff5d"
      },
      "source": [
        "# Test code \n",
        "strings = \"i have a string\"\n",
        "reverse_words(strings)"
      ],
      "execution_count": 5,
      "outputs": [
        {
          "output_type": "execute_result",
          "data": {
            "text/plain": [
              "'string a have i'"
            ]
          },
          "metadata": {
            "tags": []
          },
          "execution_count": 5
        }
      ]
    },
    {
      "cell_type": "code",
      "metadata": {
        "id": "PPXILipIMLmt",
        "colab_type": "code",
        "colab": {
          "base_uri": "https://localhost:8080/",
          "height": 34
        },
        "outputId": "bf15bfe8-11bf-4393-b3f8-006d9fbd53b3"
      },
      "source": [
        "# Test code \n",
        "strings = \"this string contains several words\"\n",
        "reverse_words(strings)"
      ],
      "execution_count": 6,
      "outputs": [
        {
          "output_type": "execute_result",
          "data": {
            "text/plain": [
              "'words several contains string this'"
            ]
          },
          "metadata": {
            "tags": []
          },
          "execution_count": 6
        }
      ]
    }
  ]
}