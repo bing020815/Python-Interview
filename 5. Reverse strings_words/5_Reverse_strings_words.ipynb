{
  "nbformat": 4,
  "nbformat_minor": 0,
  "metadata": {
    "colab": {
      "name": "5. Reverse strings/words.ipynb",
      "provenance": [],
      "authorship_tag": "ABX9TyPef38sBiZV7IHmRFVivx7d",
      "include_colab_link": true
    },
    "kernelspec": {
      "name": "python3",
      "display_name": "Python 3"
    }
  },
  "cells": [
    {
      "cell_type": "markdown",
      "metadata": {
        "id": "view-in-github",
        "colab_type": "text"
      },
      "source": [
        "<a href=\"https://colab.research.google.com/github/bing020815/Python-Interview/blob/master/5.%20Reverse%20strings_words/5_Reverse_strings_words.ipynb\" target=\"_parent\"><img src=\"https://colab.research.google.com/assets/colab-badge.svg\" alt=\"Open In Colab\"/></a>"
      ]
    },
    {
      "cell_type": "markdown",
      "metadata": {
        "id": "UauJ7ZERIloQ",
        "colab_type": "text"
      },
      "source": [
        "# Reverse strings\n",
        "Given a string, create a function to return the string reversely.\n",
        "\n",
        "Exammple:  \n",
        "Input : str = \"abcde\"  \n",
        "Output : str = \"edcba\"  "
      ]
    },
    {
      "cell_type": "code",
      "metadata": {
        "id": "Vt7IWmEoIV91",
        "colab_type": "code",
        "colab": {}
      },
      "source": [
        "def reverse_strings(strings):\n",
        "    reverse_s = strings[::-1] # select all charactors buy step size of -1\n",
        "    return reverse_s"
      ],
      "execution_count": 0,
      "outputs": []
    },
    {
      "cell_type": "code",
      "metadata": {
        "id": "Sa-D5UFfLkgX",
        "colab_type": "code",
        "colab": {
          "base_uri": "https://localhost:8080/",
          "height": 34
        },
        "outputId": "91b3c1da-333f-4974-8640-546a694fcef5"
      },
      "source": [
        "# Test code \n",
        "strings = \"reverse\"\n",
        "reverse_strings(strings)"
      ],
      "execution_count": 9,
      "outputs": [
        {
          "output_type": "execute_result",
          "data": {
            "text/plain": [
              "'esrever'"
            ]
          },
          "metadata": {
            "tags": []
          },
          "execution_count": 9
        }
      ]
    },
    {
      "cell_type": "code",
      "metadata": {
        "id": "8kwdzRD2JS9d",
        "colab_type": "code",
        "colab": {
          "base_uri": "https://localhost:8080/",
          "height": 34
        },
        "outputId": "bfbef73d-e884-4d0d-be11-c9625f594bf9"
      },
      "source": [
        "# Test code \n",
        "strings = \"i have a string\"\n",
        "reverse_strings(strings)"
      ],
      "execution_count": 11,
      "outputs": [
        {
          "output_type": "execute_result",
          "data": {
            "text/plain": [
              "'gnirts a evah i'"
            ]
          },
          "metadata": {
            "tags": []
          },
          "execution_count": 11
        }
      ]
    },
    {
      "cell_type": "markdown",
      "metadata": {
        "id": "k2hjK5TsKlJh",
        "colab_type": "text"
      },
      "source": [
        "# Reverse words\n",
        "Given a string, create a function to return words reversely.\n",
        "\n",
        "Exammple:  \n",
        "Input : str = \"this is a string\"  \n",
        "Output : str = \"string a is this\"  "
      ]
    },
    {
      "cell_type": "code",
      "metadata": {
        "id": "397ZX73kJYcz",
        "colab_type": "code",
        "colab": {}
      },
      "source": [
        "def reverse_words(strings):\n",
        "    # split a string to words with the white space delimited\n",
        "    words=strings.split()\n",
        "    # list comprehension to collect the words in reverse order\n",
        "    reversed_words = [words[-(i+1)] for i in range(len(words))]\n",
        "    # join the words with a white space\n",
        "    result = ' '.join(reversed_words)\n",
        "    return result"
      ],
      "execution_count": 0,
      "outputs": []
    },
    {
      "cell_type": "code",
      "metadata": {
        "id": "krznbaklMInb",
        "colab_type": "code",
        "colab": {
          "base_uri": "https://localhost:8080/",
          "height": 34
        },
        "outputId": "6cf75bb3-f262-43fc-ce9c-ca422e4356d6"
      },
      "source": [
        "# Test code \n",
        "strings = \"i have a string\"\n",
        "reverse_words(strings)"
      ],
      "execution_count": 28,
      "outputs": [
        {
          "output_type": "execute_result",
          "data": {
            "text/plain": [
              "'string a have i'"
            ]
          },
          "metadata": {
            "tags": []
          },
          "execution_count": 28
        }
      ]
    },
    {
      "cell_type": "code",
      "metadata": {
        "id": "PPXILipIMLmt",
        "colab_type": "code",
        "colab": {
          "base_uri": "https://localhost:8080/",
          "height": 34
        },
        "outputId": "7139ea58-3401-43ec-cad4-7e42440b9fab"
      },
      "source": [
        "# Test code \n",
        "strings = \"this string contains several words\"\n",
        "reverse_words(strings)"
      ],
      "execution_count": 29,
      "outputs": [
        {
          "output_type": "execute_result",
          "data": {
            "text/plain": [
              "'words several contains string this'"
            ]
          },
          "metadata": {
            "tags": []
          },
          "execution_count": 29
        }
      ]
    },
    {
      "cell_type": "code",
      "metadata": {
        "id": "4cgp8guINavc",
        "colab_type": "code",
        "colab": {}
      },
      "source": [
        ""
      ],
      "execution_count": 0,
      "outputs": []
    }
  ]
}