{
 "cells": [
  {
   "cell_type": "markdown",
   "metadata": {},
   "source": [
    "A website domain like \"discuss.leetcode.com\" consists of various subdomains. At the top level, we have \"com\", at the next level, we have \"leetcode.com\", and at the lowest level, \"discuss.leetcode.com\". When we visit a domain like \"discuss.leetcode.com\", we will also visit the parent domains \"leetcode.com\" and \"com\" implicitly.\n",
    "\n",
    "Now, call a \"count-paired domain\" to be a count (representing the number of visits this domain received), followed by a space, followed by the address. An example of a count-paired domain might be \"9001 discuss.leetcode.com\".\n",
    "\n",
    "We are given a list cpdomains of count-paired domains. We would like a list of count-paired domains, (in the same format as the input, and in any order), that explicitly counts the number of visits to each subdomain.\n",
    "\n",
    "```\n",
    "Example 1:\n",
    "Input: \n",
    "[\"9001 discuss.leetcode.com\"]\n",
    "Output: \n",
    "[\"9001 discuss.leetcode.com\", \"9001 leetcode.com\", \"9001 com\"]\n",
    "Explanation: \n",
    "We only have one website domain: \"discuss.leetcode.com\". As discussed above, the subdomain \"leetcode.com\" and \"com\" will also be visited. So they will all be visited 9001 times.\n",
    "```\n",
    "\n",
    "```\n",
    "Example 2:\n",
    "Input: \n",
    "[\"900 google.mail.com\", \"50 yahoo.com\", \"1 intel.mail.com\", \"5 wiki.org\"]\n",
    "Output: \n",
    "[\"901 mail.com\",\"50 yahoo.com\",\"900 google.mail.com\",\"5 wiki.org\",\"5 org\",\"1 intel.mail.com\",\"951 com\"]\n",
    "Explanation: \n",
    "We will visit \"google.mail.com\" 900 times, \"yahoo.com\" 50 times, \"intel.mail.com\" once and \"wiki.org\" 5 times. For the subdomains, we will visit \"mail.com\" 900 + 1 = 901 times, \"com\" 900 + 50 + 1 = 951 times, and \"org\" 5 times.\n",
    "```"
   ]
  },
  {
   "cell_type": "markdown",
   "metadata": {},
   "source": [
    "To solve this question, using hash map is a better way. Here we use the `defaultdict(int)` to do as the hash map. `defaultdict(int)` is a data structure under `collections`. When you input a key into the dictionary, you will get defatult output, 0, in this case.\n",
    " "
   ]
  },
  {
   "cell_type": "code",
   "execution_count": 1,
   "metadata": {},
   "outputs": [],
   "source": [
    "import collections\n",
    "a = collections.defaultdict(int)"
   ]
  },
  {
   "cell_type": "code",
   "execution_count": 2,
   "metadata": {},
   "outputs": [],
   "source": [
    "def subdomainVisits(cpdomains):\n",
    "    hdict= collections.defaultdict(int)\n",
    "    # create a default dictionary to store domain counts\n",
    "    \n",
    "    for d in cpdomains:\n",
    "        dom = d.split(\" \") # dom contains numbers and url\n",
    "        count= int(dom[0])\n",
    "        \n",
    "        # solve the sub domain\n",
    "        sub = dom[1].split('.') # split domins\n",
    "        if len(sub) == 3:\n",
    "            hdict[sub[-2]+'.'+sub[-1]] += count\n",
    "            \n",
    "        # solve the entire domain\n",
    "        hdict[dom[1]] += count\n",
    "        \n",
    "        # solve the last part of sub domian\n",
    "        hdict[sub[-1]] += count\n",
    "        \n",
    "    # for returning formated output  \n",
    "    result = []\n",
    "    for k in hdict:\n",
    "        result.append(f'{hdict[k]} {k}')\n",
    "    return result"
   ]
  },
  {
   "cell_type": "code",
   "execution_count": 3,
   "metadata": {},
   "outputs": [],
   "source": [
    "cpdomains = [\"9001 discuss.leetcode.com\"]\n",
    "subdomainVisits(cpdomains)"
   ]
  },
  {
   "cell_type": "code",
   "execution_count": 4,
   "metadata": {},
   "outputs": [],
   "source": [
    "cpdomains = [\"900 google.mail.com\", \"50 yahoo.com\", \"1 intel.mail.com\", \"5 wiki.org\"]\n",
    "subdomainVisits(cpdomains)"
   ]
  },
  {
   "cell_type": "markdown",
   "metadata": {},
   "source": [
    "[Hint]: iterating dictionary keys in default. "
   ]
  }
 ],
 "metadata": {
  "kernelspec": {
   "display_name": "Python 3",
   "language": "python",
   "name": "python3"
  },
  "language_info": {
   "codemirror_mode": {
    "name": "ipython",
    "version": 3
   },
   "file_extension": ".py",
   "mimetype": "text/x-python",
   "name": "python",
   "nbconvert_exporter": "python",
   "pygments_lexer": "ipython3",
   "version": "3.7.6"
  }
 },
 "nbformat": 4,
 "nbformat_minor": 4
}
