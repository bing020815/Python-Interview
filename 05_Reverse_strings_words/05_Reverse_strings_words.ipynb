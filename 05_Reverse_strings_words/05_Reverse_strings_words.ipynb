{
  "nbformat": 4,
  "nbformat_minor": 0,
  "metadata": {
    "colab": {
      "name": "5. Reverse strings/words.ipynb",
      "provenance": [],
      "authorship_tag": "ABX9TyNYHhaIohthWbw3F3dthlv4",
      "include_colab_link": true
    },
    "kernelspec": {
      "name": "python3",
      "display_name": "Python 3"
    }
  },
  "cells": [
    {
      "cell_type": "markdown",
      "metadata": {
        "id": "view-in-github",
        "colab_type": "text"
      },
      "source": [
        "<a href=\"https://colab.research.google.com/github/bing020815/Python-Interview/blob/master/5.%20Reverse%20strings_words/5_Reverse_strings_words.ipynb\" target=\"_parent\"><img src=\"https://colab.research.google.com/assets/colab-badge.svg\" alt=\"Open In Colab\"/></a>"
      ]
    },
    {
      "cell_type": "markdown",
      "metadata": {
        "id": "UauJ7ZERIloQ",
        "colab_type": "text"
      },
      "source": [
        "# Reverse strings\n",
        "Given a string, create a function to return the string reversely.\n",
        "\n",
        "Exammple:  \n",
        "Input : str = \"abcde\"  \n",
        "Output : str = \"edcba\"  "
      ]
    },
    {
      "cell_type": "code",
      "metadata": {
        "id": "Vt7IWmEoIV91",
        "colab_type": "code",
        "colab": {}
      },
      "source": [
        "def reverse_strings(strings):\n",
        "    reverse_s = strings[::-1] # select all charactors but step size of -1\n",
        "    return reverse_s"
      ],
      "execution_count": 0,
      "outputs": []
    },
    {
      "cell_type": "code",
      "metadata": {
        "id": "Sa-D5UFfLkgX",
        "colab_type": "code",
        "outputId": "6ae18661-367c-4200-855b-650f0b33f16e",
        "colab": {
          "base_uri": "https://localhost:8080/",
          "height": 34
        }
      },
      "source": [
        "# Test code \n",
        "strings = \"reverse\"\n",
        "reverse_strings(strings)"
      ],
      "execution_count": 2,
      "outputs": [
        {
          "output_type": "execute_result",
          "data": {
            "text/plain": [
              "'esrever'"
            ]
          },
          "metadata": {
            "tags": []
          },
          "execution_count": 2
        }
      ]
    },
    {
      "cell_type": "code",
      "metadata": {
        "id": "8kwdzRD2JS9d",
        "colab_type": "code",
        "outputId": "e1a093f4-6ca5-4df2-8dd8-f4cdd7f986f9",
        "colab": {
          "base_uri": "https://localhost:8080/",
          "height": 34
        }
      },
      "source": [
        "# Test code \n",
        "strings = \"i have a string\"\n",
        "reverse_strings(strings)"
      ],
      "execution_count": 3,
      "outputs": [
        {
          "output_type": "execute_result",
          "data": {
            "text/plain": [
              "'gnirts a evah i'"
            ]
          },
          "metadata": {
            "tags": []
          },
          "execution_count": 3
        }
      ]
    },
    {
      "cell_type": "markdown",
      "metadata": {
        "id": "k2hjK5TsKlJh",
        "colab_type": "text"
      },
      "source": [
        "# Reverse words\n",
        "Given a string, create a function to return words reversely.\n",
        "\n",
        "Exammple:  \n",
        "Input : str = \"this is a string\"  \n",
        "Output : str = \"string a is this\"  "
      ]
    },
    {
      "cell_type": "code",
      "metadata": {
        "id": "397ZX73kJYcz",
        "colab_type": "code",
        "colab": {}
      },
      "source": [
        "def reverse_words(strings):\n",
        "    # split a string to words with the white space delimited\n",
        "    words=strings.split()\n",
        "    # list comprehension to collect the words in reverse order\n",
        "    reversed_words = [words[-(i+1)] for i in range(len(words))]\n",
        "    # join the words with a white space\n",
        "    result = ' '.join(reversed_words)\n",
        "    return result"
      ],
      "execution_count": 0,
      "outputs": []
    },
    {
      "cell_type": "code",
      "metadata": {
        "id": "krznbaklMInb",
        "colab_type": "code",
        "outputId": "614e482a-15b5-46de-bd99-a4d35a4b2454",
        "colab": {
          "base_uri": "https://localhost:8080/",
          "height": 34
        }
      },
      "source": [
        "# Test code \n",
        "strings = \"i have a string\"\n",
        "reverse_words(strings)"
      ],
      "execution_count": 5,
      "outputs": [
        {
          "output_type": "execute_result",
          "data": {
            "text/plain": [
              "'string a have i'"
            ]
          },
          "metadata": {
            "tags": []
          },
          "execution_count": 5
        }
      ]
    },
    {
      "cell_type": "code",
      "metadata": {
        "id": "PPXILipIMLmt",
        "colab_type": "code",
        "outputId": "d0c6b990-1626-4962-e4f6-91486103b0df",
        "colab": {
          "base_uri": "https://localhost:8080/",
          "height": 34
        }
      },
      "source": [
        "# Test code \n",
        "strings = \"this string contains several words\"\n",
        "reverse_words(strings)"
      ],
      "execution_count": 6,
      "outputs": [
        {
          "output_type": "execute_result",
          "data": {
            "text/plain": [
              "'words several contains string this'"
            ]
          },
          "metadata": {
            "tags": []
          },
          "execution_count": 6
        }
      ]
    },
    {
      "cell_type": "markdown",
      "metadata": {
        "id": "vig_qsf6PrOo",
        "colab_type": "text"
      },
      "source": [
        "# Reverse individual words\n",
        "Given a string, create a function to return the string with reversed words.\n",
        "\n",
        "Exammple:  \n",
        "Input : str = \"this is a string\"  \n",
        "Output : str = \"siht si a gnirts\"  "
      ]
    },
    {
      "cell_type": "code",
      "metadata": {
        "id": "5xT8OZggP2dk",
        "colab_type": "code",
        "colab": {}
      },
      "source": [
        "def reverse_individual_words(strings):\n",
        "    # split a string to words with the white space delimited\n",
        "    words=strings.split()\n",
        "    # list comprehension to collect the individual reversed words\n",
        "    individual_reversed_words = [words[i][::-1] for i in range(len(words))]\n",
        "    # join the individual reversed words with a white space\n",
        "    result = ' '.join(individual_reversed_words)\n",
        "    return result"
      ],
      "execution_count": 0,
      "outputs": []
    },
    {
      "cell_type": "code",
      "metadata": {
        "id": "6XTMzXr_QTgC",
        "colab_type": "code",
        "colab": {
          "base_uri": "https://localhost:8080/",
          "height": 34
        },
        "outputId": "bb9378ca-6a0c-4f3c-c0e2-55526efb92e9"
      },
      "source": [
        "# Test code \n",
        "strings = \"i have a string\"\n",
        "reverse_individual_words(strings)"
      ],
      "execution_count": 8,
      "outputs": [
        {
          "output_type": "execute_result",
          "data": {
            "text/plain": [
              "'i evah a gnirts'"
            ]
          },
          "metadata": {
            "tags": []
          },
          "execution_count": 8
        }
      ]
    },
    {
      "cell_type": "code",
      "metadata": {
        "id": "Wu0RbWzOQU7A",
        "colab_type": "code",
        "colab": {
          "base_uri": "https://localhost:8080/",
          "height": 34
        },
        "outputId": "860ea9aa-b257-43f3-e41d-92af2e5484d3"
      },
      "source": [
        "# Test code \n",
        "strings = \"this string contains several words\"\n",
        "reverse_individual_words(strings)"
      ],
      "execution_count": 9,
      "outputs": [
        {
          "output_type": "execute_result",
          "data": {
            "text/plain": [
              "'siht gnirts sniatnoc lareves sdrow'"
            ]
          },
          "metadata": {
            "tags": []
          },
          "execution_count": 9
        }
      ]
    }
  ]
}