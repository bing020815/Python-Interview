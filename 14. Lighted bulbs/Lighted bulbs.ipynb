{
 "cells": [
  {
   "cell_type": "markdown",
   "metadata": {},
   "source": [
    "There are N bulbs, numbered from 1 to N, arranged in a row. The first bulb is plugged into the power socket and each successive bulb is connected to the previous one. (the second bulbs to the first, the third bulb to the second, etc.)\n",
    "\n",
    "Initially, all the bulbs are turned off. At moment K (for K from 0 to N-1), we turn on the A[K]-th bulb.  A bulb shine if it is on and all the previous bulbs are turned on too.\n",
    "\n",
    "Write a function solution that, given an array A of N different integers from 1 to N, returns the number of moments for which every turned on bulb shines\n",
    "\n",
    "```\n",
    "Example 1.\n",
    "Give A = [2, 1, 3, 5, 4], the function should return 3. (at the 1th, 2rd and 4th moment every turned on bulb shines)\n",
    "\n",
    "```\n",
    "\n",
    "\n",
    "```\n",
    "Example 2.\n",
    "Give A = [2, 3, 4, 1, 5], the function should return 2. (at the 3rd and 4th moment every turned on bulb shines)\n",
    "\n",
    "```\n",
    "\n",
    "\n",
    "```\n",
    "Example 3.\n",
    "Give A = [1, 3, 4, 2, 5], the function should return 3. (at the 0th, 3rd and 4th moment every turned on bulb shines)\n",
    "\n",
    "```"
   ]
  },
  {
   "cell_type": "code",
   "execution_count": 1,
   "metadata": {},
   "outputs": [],
   "source": [
    "def bulb_shine(A):\n",
    "    # create dictionary for recording bulb status\n",
    "    switch = {}\n",
    "    num = len(A)\n",
    "    for i in range(num):\n",
    "        switch[f'{i+1}'] = False\n",
    "    \n",
    "    count = 0 # count for successive bulb lighted\n",
    "    # follow the rule to turn on switch\n",
    "    for i, e in enumerate(A):\n",
    "        switch[f'{e}']= True\n",
    "        # check if all switchs are on for current round\n",
    "        if sum([switch[str(key+1)] for key in range(i+1)]) == i+1:\n",
    "            count += 1\n",
    "    return count"
   ]
  },
  {
   "cell_type": "code",
   "execution_count": 2,
   "metadata": {},
   "outputs": [
    {
     "data": {
      "text/plain": [
       "3"
      ]
     },
     "execution_count": 2,
     "metadata": {},
     "output_type": "execute_result"
    }
   ],
   "source": [
    "bulb_shine([2, 1, 3, 5, 4])"
   ]
  },
  {
   "cell_type": "code",
   "execution_count": 3,
   "metadata": {},
   "outputs": [
    {
     "data": {
      "text/plain": [
       "2"
      ]
     },
     "execution_count": 3,
     "metadata": {},
     "output_type": "execute_result"
    }
   ],
   "source": [
    "bulb_shine([2, 3, 4, 1, 5])"
   ]
  },
  {
   "cell_type": "code",
   "execution_count": 4,
   "metadata": {},
   "outputs": [
    {
     "data": {
      "text/plain": [
       "3"
      ]
     },
     "execution_count": 4,
     "metadata": {},
     "output_type": "execute_result"
    }
   ],
   "source": [
    "bulb_shine([1, 3, 4, 2, 5])"
   ]
  },
  {
   "cell_type": "markdown",
   "metadata": {},
   "source": [
    "BreakDown:"
   ]
  },
  {
   "cell_type": "code",
   "execution_count": 5,
   "metadata": {},
   "outputs": [],
   "source": [
    "A = [2, 1, 3, 5, 4]"
   ]
  },
  {
   "cell_type": "code",
   "execution_count": 6,
   "metadata": {},
   "outputs": [],
   "source": [
    "# create dictionary for recording bulb status\n",
    "switch = {}\n",
    "num = len(A)\n",
    "for i in range(num):\n",
    "    switch[f'{i+1}'] = False"
   ]
  },
  {
   "cell_type": "code",
   "execution_count": 7,
   "metadata": {},
   "outputs": [
    {
     "name": "stdout",
     "output_type": "stream",
     "text": [
      "0\n",
      "round 1\n",
      "{'1': False, '2': True, '3': False, '4': False, '5': False}\n",
      "count: 0\n",
      "\n",
      "\n",
      "2\n",
      "round 2\n",
      "{'1': True, '2': True, '3': False, '4': False, '5': False}\n",
      "count: 1\n",
      "\n",
      "\n",
      "3\n",
      "round 3\n",
      "{'1': True, '2': True, '3': True, '4': False, '5': False}\n",
      "count: 2\n",
      "\n",
      "\n",
      "3\n",
      "round 4\n",
      "{'1': True, '2': True, '3': True, '4': False, '5': True}\n",
      "count: 2\n",
      "\n",
      "\n",
      "5\n",
      "round 5\n",
      "{'1': True, '2': True, '3': True, '4': True, '5': True}\n",
      "count: 3\n",
      "\n",
      "\n"
     ]
    }
   ],
   "source": [
    "count = 0\n",
    "# follow the rule to turn on switch\n",
    "for i, e in enumerate(A):\n",
    "    switch[f'{e}']= True\n",
    "    print(sum([switch[str(key+1)] for key in range(i+1)]))\n",
    "    # check if all switchs are on for current round\n",
    "    if sum([switch[str(key+1)] for key in range(i+1)]) == i+1:\n",
    "        count += 1\n",
    "    print(f'round {i+1}')\n",
    "    print(switch)\n",
    "    print(f'count: {count}')\n",
    "    print('\\n')"
   ]
  },
  {
   "cell_type": "code",
   "execution_count": null,
   "metadata": {},
   "outputs": [],
   "source": []
  }
 ],
 "metadata": {
  "kernelspec": {
   "display_name": "Python 3",
   "language": "python",
   "name": "python3"
  },
  "language_info": {
   "codemirror_mode": {
    "name": "ipython",
    "version": 3
   },
   "file_extension": ".py",
   "mimetype": "text/x-python",
   "name": "python",
   "nbconvert_exporter": "python",
   "pygments_lexer": "ipython3",
   "version": "3.7.6"
  }
 },
 "nbformat": 4,
 "nbformat_minor": 4
}
